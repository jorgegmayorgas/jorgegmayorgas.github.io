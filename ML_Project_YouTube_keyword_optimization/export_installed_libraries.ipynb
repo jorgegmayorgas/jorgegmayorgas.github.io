{
 "cells": [
  {
   "cell_type": "code",
   "execution_count": 1,
   "metadata": {},
   "outputs": [
    {
     "name": "stdout",
     "output_type": "stream",
     "text": [
      "List of installed packages is saved in 'installed_packages.txt'\n"
     ]
    }
   ],
   "source": [
    "import subprocess\n",
    "import sys\n",
    "\n",
    "# Run 'pip list' and capture the output\n",
    "installed_packages = subprocess.check_output([sys.executable, '-m', 'pip', 'list']).decode('utf-8')\n",
    "\n",
    "# Write the output to a file\n",
    "with open('installed_packages.txt', 'w') as file:\n",
    "    file.write(installed_packages)\n",
    "\n",
    "print(\"List of installed packages is saved in 'installed_packages.txt'\")"
   ]
  }
 ],
 "metadata": {
  "kernelspec": {
   "display_name": "Python 3",
   "language": "python",
   "name": "python3"
  },
  "language_info": {
   "codemirror_mode": {
    "name": "ipython",
    "version": 3
   },
   "file_extension": ".py",
   "mimetype": "text/x-python",
   "name": "python",
   "nbconvert_exporter": "python",
   "pygments_lexer": "ipython3",
   "version": "3.10.11"
  }
 },
 "nbformat": 4,
 "nbformat_minor": 2
}
